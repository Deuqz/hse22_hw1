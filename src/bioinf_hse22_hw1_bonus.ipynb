{
  "nbformat": 4,
  "nbformat_minor": 0,
  "metadata": {
    "colab": {
      "provenance": []
    },
    "kernelspec": {
      "name": "python3",
      "display_name": "Python 3"
    },
    "language_info": {
      "name": "python"
    }
  },
  "cells": [
    {
      "cell_type": "code",
      "source": [
        "import re\n",
        "def analyze(path: str):\n",
        "    count = 0\n",
        "    common_len = 0\n",
        "    max_len = 0\n",
        "    lens = []\n",
        "    with open(path, 'r') as f:\n",
        "        for line in f:\n",
        "            if (line[0] == '>'):\n",
        "                length = int(re.findall('\\d+', line)[1])\n",
        "                lens.append(length)\n",
        "                count += 1\n",
        "                common_len += length\n",
        "                max_len = max(max_len, length)\n",
        "    lens.sort(reverse = True)\n",
        "    sum_lens = 0\n",
        "    n50 = 0\n",
        "    for l in lens:\n",
        "        sum_lens += l\n",
        "        if sum_lens * 2 >= common_len:\n",
        "            n50 = l\n",
        "            break\n",
        "    return count, common_len, max_len, n50"
      ],
      "metadata": {
        "id": "SWA_Du_k5EPL"
      },
      "execution_count": 4,
      "outputs": []
    },
    {
      "cell_type": "code",
      "source": [
        "def print_info(info):\n",
        "    print(f\"  Количество: {info[0]}\")\n",
        "    print(f\"  Общая длина: {info[1]}\")\n",
        "    print(f\"  Наибольшая длина: {info[2]}\")\n",
        "    print(f\"  N50: {info[3]}\")"
      ],
      "metadata": {
        "id": "YnI5bCjKGzhN"
      },
      "execution_count": 5,
      "outputs": []
    },
    {
      "cell_type": "code",
      "source": [
        "print(\"Анализ полученных контигов:\")\n",
        "print_info(analyze(\"oil_small_contig.fa\"))"
      ],
      "metadata": {
        "colab": {
          "base_uri": "https://localhost:8080/"
        },
        "id": "5kA6LMEZ7MvP",
        "outputId": "cdaa15c2-f2b0-431f-fc6a-bb886c0ac3d6"
      },
      "execution_count": 6,
      "outputs": [
        {
          "output_type": "stream",
          "name": "stdout",
          "text": [
            "Анализ полученных контигов:\n",
            "  Количество: 1274\n",
            "  Общая длина: 3913708\n",
            "  Наибольшая длина: 187087\n",
            "  N50: 67003\n"
          ]
        }
      ]
    },
    {
      "cell_type": "code",
      "source": [
        "print(\"Анализ полученных скаффолдов\")\n",
        "res = analyze(\"oil_small_scaffold.fa\")\n",
        "print_info(res)"
      ],
      "metadata": {
        "colab": {
          "base_uri": "https://localhost:8080/"
        },
        "id": "JrY8n2Y-FNW9",
        "outputId": "614afe17-a448-454c-9fe9-ddde36ded537"
      },
      "execution_count": 7,
      "outputs": [
        {
          "output_type": "stream",
          "name": "stdout",
          "text": [
            "Анализ полученных скаффолдов\n",
            "  Количество: 150\n",
            "  Общая длина: 3851777\n",
            "  Наибольшая длина: 1894726\n",
            "  N50: 891720\n"
          ]
        }
      ]
    },
    {
      "cell_type": "code",
      "source": [
        "def get_max_seq(path):\n",
        "    max_seq = ''\n",
        "    with open(path, 'r') as f:\n",
        "        cur_seq = ''\n",
        "        for line in f:\n",
        "            if line[0] == '>':\n",
        "                max_seq = cur_seq if len(cur_seq) > len(max_seq) else max_seq\n",
        "                cur_seq = ''\n",
        "            else:\n",
        "                cur_seq += line.strip()\n",
        "        max_seq = cur_seq if len(cur_seq) > len(max_seq) else max_seq\n",
        "    return max_seq"
      ],
      "metadata": {
        "id": "amQaLlNvGTiL"
      },
      "execution_count": 8,
      "outputs": []
    },
    {
      "cell_type": "code",
      "source": [
        "big_scaffold = get_max_seq(\"oil_small_scaffold.fa\")\n",
        "print(f\"Количество гэпов до обрезания: {len(re.findall('NNNN', big_scaffold))}\")\n",
        "print(f\"Длина гэпов до обрезания: {big_scaffold.count('N')}\")"
      ],
      "metadata": {
        "colab": {
          "base_uri": "https://localhost:8080/"
        },
        "id": "Vmeue1L4Ieel",
        "outputId": "2de52edf-954d-44db-9b20-84a9c953ea52"
      },
      "execution_count": 9,
      "outputs": [
        {
          "output_type": "stream",
          "name": "stdout",
          "text": [
            "Количество гэпов до обрезания: 1969\n",
            "Длина гэпов до обрезания: 7976\n"
          ]
        }
      ]
    },
    {
      "cell_type": "code",
      "source": [
        "big_scaffold = get_max_seq(\"oil_small_gapClosed.fa\")\n",
        "print(f\"Количество гэпов после обрезания: {len(re.findall('NNNN', big_scaffold))}\")\n",
        "print(f\"Длина гэпов после обрезания: {big_scaffold.count('N')}\")"
      ],
      "metadata": {
        "colab": {
          "base_uri": "https://localhost:8080/"
        },
        "id": "RbLxrTU1QFh_",
        "outputId": "dccdac31-948a-43be-bd77-6adb5653078c"
      },
      "execution_count": 10,
      "outputs": [
        {
          "output_type": "stream",
          "name": "stdout",
          "text": [
            "Количество гэпов после обрезания: 1289\n",
            "Длина гэпов после обрезания: 5194\n"
          ]
        }
      ]
    },
    {
      "cell_type": "code",
      "source": [],
      "metadata": {
        "id": "7ZFnPeKuRkNe"
      },
      "execution_count": null,
      "outputs": []
    }
  ]
}