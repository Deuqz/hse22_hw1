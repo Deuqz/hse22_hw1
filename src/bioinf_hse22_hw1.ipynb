{
  "nbformat": 4,
  "nbformat_minor": 0,
  "metadata": {
    "colab": {
      "provenance": []
    },
    "kernelspec": {
      "name": "python3",
      "display_name": "Python 3"
    },
    "language_info": {
      "name": "python"
    }
  },
  "cells": [
    {
      "cell_type": "code",
      "source": [
        "import re\n",
        "def analyze(path: str):\n",
        "    count = 0\n",
        "    common_len = 0\n",
        "    max_len = 0\n",
        "    lens = []\n",
        "    with open(path, 'r') as f:\n",
        "        for line in f:\n",
        "            if (line[0] == '>'):\n",
        "                length = int(re.findall('\\d+', line)[1])\n",
        "                lens.append(length)\n",
        "                count += 1\n",
        "                common_len += length\n",
        "                max_len = max(max_len, length)\n",
        "    lens.sort(reverse = True)\n",
        "    sum_lens = 0\n",
        "    n50 = 0\n",
        "    for l in lens:\n",
        "        sum_lens += l\n",
        "        if sum_lens * 2 >= common_len:\n",
        "            n50 = l\n",
        "            break\n",
        "    return count, common_len, max_len, n50"
      ],
      "metadata": {
        "id": "SWA_Du_k5EPL"
      },
      "execution_count": 1,
      "outputs": []
    },
    {
      "cell_type": "code",
      "source": [
        "def print_info(info):\n",
        "    print(f\"  Количество: {info[0]}\")\n",
        "    print(f\"  Общая длина: {info[1]}\")\n",
        "    print(f\"  Наибольшая длина: {info[2]}\")\n",
        "    print(f\"  N50: {info[3]}\")"
      ],
      "metadata": {
        "id": "YnI5bCjKGzhN"
      },
      "execution_count": null,
      "outputs": []
    },
    {
      "cell_type": "code",
      "source": [
        "print(\"Анализ полученных контигов:\")\n",
        "print_info(analyze(\"oil_contig.fa\"))"
      ],
      "metadata": {
        "colab": {
          "base_uri": "https://localhost:8080/"
        },
        "id": "5kA6LMEZ7MvP",
        "outputId": "13742f3c-f0e9-4464-931f-53ffbba70375"
      },
      "execution_count": null,
      "outputs": [
        {
          "output_type": "stream",
          "name": "stdout",
          "text": [
            "Анализ полученных контигов:\n",
            "  Количество: 632\n",
            "  Общая длина: 3927274\n",
            "  Наибольшая длина: 158930\n",
            "  N50: 51588\n"
          ]
        }
      ]
    },
    {
      "cell_type": "code",
      "source": [
        "print(\"Анализ полученных скаффолдов\")\n",
        "res = analyze(\"oil_scaffold.fa\")\n",
        "print_info(res)"
      ],
      "metadata": {
        "colab": {
          "base_uri": "https://localhost:8080/"
        },
        "id": "JrY8n2Y-FNW9",
        "outputId": "169619cc-79ad-47b3-9d0f-3279ff72aec9"
      },
      "execution_count": null,
      "outputs": [
        {
          "output_type": "stream",
          "name": "stdout",
          "text": [
            "Анализ полученных скаффолдов\n",
            "  Количество: 72\n",
            "  Общая длина: 3875407\n",
            "  Наибольшая длина: 3834180\n",
            "  N50: 3834180\n"
          ]
        }
      ]
    },
    {
      "cell_type": "code",
      "source": [
        "def get_max_seq(path):\n",
        "    max_seq = ''\n",
        "    with open(path, 'r') as f:\n",
        "        cur_seq = ''\n",
        "        for line in f:\n",
        "            if line[0] == '>':\n",
        "                max_seq = cur_seq if len(cur_seq) > len(max_seq) else max_seq\n",
        "                cur_seq = ''\n",
        "            else:\n",
        "                cur_seq += line.strip()\n",
        "        max_seq = cur_seq if len(cur_seq) > len(max_seq) else max_seq\n",
        "    return max_seq"
      ],
      "metadata": {
        "id": "amQaLlNvGTiL"
      },
      "execution_count": null,
      "outputs": []
    },
    {
      "cell_type": "code",
      "source": [
        "big_scaffold = get_max_seq(\"oil_scaffold.fa\")\n",
        "print(f\"Количество гэпов до обрезания: {len(re.findall('NNNN', big_scaffold))}\")\n",
        "print(f\"Длина гэпов до обрезания: {big_scaffold.count('N')}\")"
      ],
      "metadata": {
        "colab": {
          "base_uri": "https://localhost:8080/"
        },
        "id": "Vmeue1L4Ieel",
        "outputId": "310b9f38-9b26-4e5c-d477-d23666594447"
      },
      "execution_count": null,
      "outputs": [
        {
          "output_type": "stream",
          "name": "stdout",
          "text": [
            "Количество гэпов до обрезания: 1759\n",
            "Длина гэпов до обрезания: 7116\n"
          ]
        }
      ]
    },
    {
      "cell_type": "code",
      "source": [
        "big_scaffold = get_max_seq(\"oil_gapClosed.fa\")\n",
        "print(f\"Количество гэпов после обрезания: {len(re.findall('NNNN', big_scaffold))}\")\n",
        "print(f\"Длина гэпов после обрезания: {big_scaffold.count('N')}\")"
      ],
      "metadata": {
        "colab": {
          "base_uri": "https://localhost:8080/"
        },
        "id": "RbLxrTU1QFh_",
        "outputId": "dbe814e6-56c2-4e2e-b6c2-581c3acd6766"
      },
      "execution_count": null,
      "outputs": [
        {
          "output_type": "stream",
          "name": "stdout",
          "text": [
            "Количество гэпов после обрезания: 578\n",
            "Длина гэпов после обрезания: 2326\n"
          ]
        }
      ]
    },
    {
      "cell_type": "code",
      "source": [],
      "metadata": {
        "id": "7ZFnPeKuRkNe"
      },
      "execution_count": null,
      "outputs": []
    }
  ]
}